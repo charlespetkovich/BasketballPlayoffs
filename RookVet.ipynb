{
 "cells": [
  {
   "cell_type": "markdown",
   "metadata": {},
   "source": [
    "# Changes in Shot Frequency Between Regular Season and Playoffs"
   ]
  },
  {
   "cell_type": "code",
   "execution_count": 1,
   "metadata": {},
   "outputs": [],
   "source": [
    "import pandas as pd\n",
    "import numpy as np\n",
    "import matplotlib.pyplot as plt\n",
    "import seaborn as sns\n",
    "import pickle\n",
    "import myFunctions as mf\n",
    "import importlib\n",
    "from sklearn.cluster import AgglomerativeClustering\n",
    "import numpy as np\n",
    "from dateutil import parser\n",
    "import datetime\n",
    "from sklearn.linear_model import LinearRegression\n",
    "from sklearn.cluster import AgglomerativeClustering\n",
    "import numpy as np\n",
    "from dateutil import parser\n",
    "import datetime"
   ]
  },
  {
   "cell_type": "code",
   "execution_count": 2,
   "metadata": {},
   "outputs": [
    {
     "data": {
      "text/plain": [
       "<module 'myFunctions' from '/home/jovyan/Pstat134/Final Project/BasketballPlayoffs/myFunctions.py'>"
      ]
     },
     "execution_count": 2,
     "metadata": {},
     "output_type": "execute_result"
    }
   ],
   "source": [
    "importlib.reload(mf)"
   ]
  },
  {
   "cell_type": "code",
   "execution_count": 3,
   "metadata": {},
   "outputs": [],
   "source": [
    "plyrs = pickle.load(open( \"allplayers.p\", \"rb\" ))\n",
    "plyrsreg = pickle.load(open(\"allplayersregular.p\",\"rb\"))\n",
    "allshotspoff = pickle.load(open( \"allshotspoff2017.p\", \"rb\" ))\n",
    "allshotsreg = pickle.load(open(\"allshotsreg2017.p\",\"rb\"))\n",
    "PIDS = [i for i in plyrs.keys()]"
   ]
  },
  {
   "cell_type": "markdown",
   "metadata": {},
   "source": [
    "After importing our pickled datafiles, we can now aggregate our data. Here, our goal is to have information on the proportion of shots a player is making with respect to their team on a given game. The average of these values will be our metric to determine players shot frequency during one of the seasons."
   ]
  },
  {
   "cell_type": "code",
   "execution_count": 4,
   "metadata": {},
   "outputs": [
    {
     "name": "stderr",
     "output_type": "stream",
     "text": [
      "/opt/conda/lib/python3.6/site-packages/pandas/core/groupby/generic.py:1315: FutureWarning: using a dict with renaming is deprecated and will be removed in a future version\n",
      "  return super(DataFrameGroupBy, self).aggregate(arg, *args, **kwargs)\n"
     ]
    }
   ],
   "source": [
    "aggregation = {'SHOT_ATTEMPTED_FLAG': {'TOTAL_SHOTS': 'sum'}}\n",
    "\n",
    "playOffTeams = allshotspoff.TEAM_NAME.unique()\n",
    "playOffNames = allshotspoff.PLAYER_NAME.unique()\n",
    "teamTotalReg = allshotsreg[allshotsreg.TEAM_NAME.isin(playOffTeams)].groupby(['GAME_ID','TEAM_NAME']).agg(aggregation)\n",
    "teamTotalPoff = allshotspoff.groupby(['GAME_ID','TEAM_NAME']).agg(aggregation)\n",
    "teamTotalReg.columns = teamTotalReg.columns.droplevel(0)\n",
    "\n",
    "teamTotalPoff.columns = teamTotalPoff.columns.droplevel(0)"
   ]
  },
  {
   "cell_type": "code",
   "execution_count": 5,
   "metadata": {},
   "outputs": [],
   "source": [
    "plyrsTotalReg = allshotsreg[np.logical_and(allshotsreg.TEAM_NAME.isin(playOffTeams),allshotsreg.PLAYER_NAME.isin(playOffNames))].groupby(['GAME_ID','TEAM_NAME','PLAYER_NAME']).agg(aggregation)\n",
    "plyrsTotalPoff = allshotspoff.groupby(['GAME_ID','TEAM_NAME','PLAYER_NAME']).agg(aggregation)\n",
    "plyrsTotalReg\n",
    "\n",
    "\n",
    "# Getting percentile shots\n",
    "plyrsTotalReg['TEAM_TOTAL_SHOTS'] = teamTotalReg.TOTAL_SHOTS\n",
    "plyrsTotalReg['PCT_SHOTS'] = plyrsTotalReg.SHOT_ATTEMPTED_FLAG.TOTAL_SHOTS.values / plyrsTotalReg.TEAM_TOTAL_SHOTS.values\n",
    "plyrsTotalPoff['TEAM_TOTAL_SHOTS'] = teamTotalPoff.TOTAL_SHOTS\n",
    "plyrsTotalPoff['PCT_SHOTS'] = plyrsTotalPoff.SHOT_ATTEMPTED_FLAG.TOTAL_SHOTS.values / plyrsTotalPoff.TEAM_TOTAL_SHOTS.values\n"
   ]
  },
  {
   "cell_type": "markdown",
   "metadata": {},
   "source": [
    "Now we will take the difference between this value for the regular season and the playoff season"
   ]
  },
  {
   "cell_type": "code",
   "execution_count": 6,
   "metadata": {},
   "outputs": [],
   "source": [
    "## Getting percentile difference\n",
    "meanPctReg = plyrsTotalReg.groupby('PLAYER_NAME').mean()\n",
    "meanPctPoff = plyrsTotalPoff.groupby('PLAYER_NAME').mean()\n",
    "sumTable = meanPctReg\n",
    "sumTable[\"SHOTAVG\"] = (allshotsreg[allshotsreg.PLAYER_NAME.isin(playOffNames)].groupby([\"PLAYER_NAME\"])[\"SHOT_MADE_FLAG\"].sum()/allshotsreg[allshotsreg.PLAYER_NAME.isin(playOffNames)].groupby([\"PLAYER_NAME\"]).size()).values\n",
    "sumTable['PCT_SHOTS_POFF'] = meanPctPoff.PCT_SHOTS.values\n",
    "sumTable['PCT_DIFF'] = (meanPctPoff.PCT_SHOTS.values - meanPctReg.PCT_SHOTS.values)"
   ]
  },
  {
   "cell_type": "code",
   "execution_count": 7,
   "metadata": {
    "scrolled": true
   },
   "outputs": [
    {
     "data": {
      "image/png": "[encoded data removed]",
      "text/plain": [
       "<Figure size 432x288 with 1 Axes>"
      ]
     },
     "metadata": {
      "needs_background": "light"
     },
     "output_type": "display_data"
    }
   ],
   "source": [
    "bins = plt.hist(sumTable.PCT_DIFF, bins = 10)\n",
    "plt.xlabel(\"Percent Difference\")\n",
    "plt.title(\"Histogram of Difference in Shot Frequency\")\n",
    "plt.show()"
   ]
  },
  {
   "cell_type": "markdown",
   "metadata": {},
   "source": [
    "We see that the percent difference is approximately normal. Maybe the players on any given extreme share some kind of relationship?"
   ]
  },
  {
   "cell_type": "code",
   "execution_count": 8,
   "metadata": {},
   "outputs": [],
   "source": [
    "def inBin(value, bins):\n",
    "    if(value > bins[len(bins)-1]):\n",
    "        return(bins[len(bins)-1])\n",
    "    for i in range(len(bins)):\n",
    "        if(value >= bins[i] and value <= bins[i+1]):\n",
    "            return i"
   ]
  },
  {
   "cell_type": "markdown",
   "metadata": {},
   "source": [
    "Here we can use the player information downloaded from the endpoint to examine possible trends and clusters that may correspond to changes in a players shot proportion"
   ]
  },
  {
   "cell_type": "code",
   "execution_count": 9,
   "metadata": {},
   "outputs": [],
   "source": [
    "plyrInfo = pickle.load(open('plyrinfo2017.p','rb'))"
   ]
  },
  {
   "cell_type": "code",
   "execution_count": 10,
   "metadata": {},
   "outputs": [],
   "source": [
    "plyrInfoPoff = plyrInfo[plyrInfo.DISPLAY_FIRST_LAST.isin(playOffNames)]\n",
    "plyrInfoPoff = plyrInfoPoff.sort_values(\"DISPLAY_FIRST_LAST\")\n",
    "plyrInfoPoff[\"PCT_DIFF\"] = sumTable.PCT_DIFF.values"
   ]
  },
  {
   "cell_type": "code",
   "execution_count": 11,
   "metadata": {},
   "outputs": [],
   "source": [
    "def ft2inches(value):\n",
    "    if(value == ''):\n",
    "        return np.NaN\n",
    "    valuelist = value.split(\"-\")\n",
    "    return int(valuelist[0])*12+int(valuelist[1])\n",
    "def yr2age(value):\n",
    "    now = datetime.datetime.now()\n",
    "    return(now.year - parser.parse(value).year)"
   ]
  },
  {
   "cell_type": "markdown",
   "metadata": {},
   "source": [
    "We convert the players height in feet remainder inches to inches and fill in any missing data with values found online"
   ]
  },
  {
   "cell_type": "code",
   "execution_count": 12,
   "metadata": {},
   "outputs": [
    {
     "name": "stdout",
     "output_type": "stream",
     "text": [
      "Weight Missing:  Tyreke Evans\n",
      "174\n"
     ]
    },
    {
     "name": "stderr",
     "output_type": "stream",
     "text": [
      "/opt/conda/lib/python3.6/site-packages/pandas/core/indexing.py:190: SettingWithCopyWarning: \n",
      "A value is trying to be set on a copy of a slice from a DataFrame\n",
      "\n",
      "See the caveats in the documentation: http://pandas.pydata.org/pandas-docs/stable/indexing.html#indexing-view-versus-copy\n",
      "  self._setitem_with_indexer(indexer, value)\n"
     ]
    }
   ],
   "source": [
    "X = pd.DataFrame(plyrInfoPoff[[\"HEIGHT\",\"WEIGHT\"]])\n",
    "X[\"AGE\"] = [yr2age(i) for i in plyrInfoPoff.BIRTHDATE]\n",
    "\n",
    "Y = X.copy()\n",
    "Y[\"PLAYER_NAME\"]= plyrInfoPoff.DISPLAY_FIRST_LAST\n",
    "for i in range(len(Y.WEIGHT)):\n",
    "    if Y.WEIGHT.iloc[i] == '':\n",
    "        print(\"Weight Missing: \",Y.PLAYER_NAME.iloc[i])\n",
    "        print(i)\n",
    "    if Y.AGE.iloc[i] == '':\n",
    "        print(\"AGE MISSING: \", Y.PLAYER_NAME.iloc[i],i)\n",
    "X.WEIGHT.iloc[174] = 220\n",
    "X.HEIGHT.iloc[174] = \"6-6\"\n",
    "X.HEIGHT = [ft2inches(i) for i in X.HEIGHT]\n",
    "X.WEIGHT = [int(i) for i in X.WEIGHT]"
   ]
  },
  {
   "cell_type": "markdown",
   "metadata": {},
   "source": [
    "Here, we also take players shot averages in order to see if better and more experienced players are getting more playtime during the NBA finals."
   ]
  },
  {
   "cell_type": "code",
   "execution_count": 13,
   "metadata": {},
   "outputs": [],
   "source": [
    "X[\"SHOTAVG\"] = sumTable.SHOTAVG.values\n",
    "X[\"PCT_SHOTS_REG\"] = sumTable.PCT_SHOTS.values\n",
    "X[\"PCT_SHOTS_POFF\"] = sumTable.PCT_SHOTS_POFF.values\n",
    "X[\"PCT_SHOTS_DIFF\"] = sumTable.PCT_DIFF.values"
   ]
  },
  {
   "cell_type": "code",
   "execution_count": 14,
   "metadata": {
    "scrolled": true
   },
   "outputs": [
    {
     "name": "stdout",
     "output_type": "stream",
     "text": [
      "      SHOTAVG PCT_SHOTS PCT_SHOTS_POFF\n",
      "                                      \n",
      "BIN                                   \n",
      "0    0.530612  0.119403       0.014856\n",
      "1    0.534232  0.117530       0.048756\n",
      "2    0.443523  0.114196       0.058241\n",
      "3    0.472574  0.096303       0.063083\n",
      "4    0.472653  0.082209       0.068060\n",
      "5    0.475717  0.110436       0.112695\n",
      "6    0.453090  0.116462       0.141237\n",
      "7    0.468233  0.137195       0.180090\n",
      "8    0.549206  0.133893       0.188377\n",
      "9    0.462670  0.173585       0.267405\n"
     ]
    },
    {
     "name": "stderr",
     "output_type": "stream",
     "text": [
      "/opt/conda/lib/python3.6/site-packages/pandas/core/generic.py:3812: PerformanceWarning: dropping on a non-lexsorted multi-index without a level parameter may impact performance.\n",
      "  new_axis = axis.drop(labels, errors=errors)\n"
     ]
    }
   ],
   "source": [
    "sumTable[\"BIN\"] = [inBin(value = i,bins = bins[1]) for i in sumTable.PCT_DIFF]\n",
    "print(sumTable[[\"BIN\",\"SHOTAVG\",\"PCT_SHOTS\",\"PCT_SHOTS_POFF\"]].groupby(\"BIN\").mean())"
   ]
  },
  {
   "cell_type": "markdown",
   "metadata": {},
   "source": [
    "We can see that the players who shot more than average shot even more during the playoffs and vice versa, despite what we would usually expect (regressing to the mean). Interestingly, the players who shot less have a higher than average shot made percentage. This may be because they only take shots theyre sure that they can make, or they only have the opportunity to shoot shots that are likely to be successful.\n",
    "\n",
    "This can offer a lot of insight on the roles of traditional non-shooters, and how those roles change during the more intense games in the season."
   ]
  },
  {
   "cell_type": "markdown",
   "metadata": {},
   "source": [
    "### Clustering and Linear Regression"
   ]
  },
  {
   "cell_type": "markdown",
   "metadata": {},
   "source": [
    "Now we can try to see if any predictors can accurately predict this change in shot difference, or if it is truly a normally distributed phenomenon."
   ]
  },
  {
   "cell_type": "code",
   "execution_count": 15,
   "metadata": {},
   "outputs": [
    {
     "name": "stdout",
     "output_type": "stream",
     "text": [
      "0.0428029802795592\n"
     ]
    }
   ],
   "source": [
    "model = LinearRegression()\n",
    "xvalues = X[['AGE',\"PCT_SHOTS_REG\",\"SHOTAVG\"]].values\n",
    "yvalues = plyrInfoPoff.PCT_DIFF.values.reshape(-1,1)\n",
    "\n",
    "model.fit(xvalues, yvalues)\n",
    "print(model.score(xvalues, yvalues))"
   ]
  },
  {
   "cell_type": "markdown",
   "metadata": {},
   "source": [
    "This low $R^2$ value indicates that there is little correlation between these factors and the change in shot frequency."
   ]
  },
  {
   "cell_type": "code",
   "execution_count": 16,
   "metadata": {},
   "outputs": [
    {
     "name": "stdout",
     "output_type": "stream",
     "text": [
      "0.009260162225651625\n"
     ]
    }
   ],
   "source": [
    "\n",
    "model = LinearRegression()\n",
    "xvalues = X[['AGE',\"SHOTAVG\"]].values\n",
    "yvalues = plyrInfoPoff.PCT_DIFF.values.reshape(-1,1)\n",
    "\n",
    "model.fit(xvalues, yvalues)\n",
    "print(model.score(xvalues, yvalues))"
   ]
  },
  {
   "cell_type": "markdown",
   "metadata": {},
   "source": [
    "The significantly lower value for $R^2$ after removing the shot percentile during the regular season indicates that this is the most influential predictor.\n",
    "\n",
    "Now lets try to use clustering to see if there are any relationships between a players age and shot average and their change in percentile."
   ]
  },
  {
   "cell_type": "code",
   "execution_count": 17,
   "metadata": {},
   "outputs": [
    {
     "data": {
      "text/plain": [
       "array([0, 0, 0, 2, 0, 0, 0, 2, 2, 2, 1, 0, 0, 0, 2, 0, 0, 0, 2, 1, 2, 0,\n",
       "       2, 0, 3, 0, 0, 2, 2, 2, 0, 2, 0, 0, 0, 2, 0, 0, 0, 1, 0, 0, 0, 0,\n",
       "       1, 0, 0, 2, 0, 2, 0, 2, 0, 0, 2, 0, 2, 0, 2, 1, 0, 0, 0, 0, 2, 2,\n",
       "       1, 2, 0, 2, 0, 3, 0, 0, 2, 2, 0, 3, 0, 0, 0, 2, 0, 0, 0, 0, 2, 0,\n",
       "       0, 2, 0, 2, 0, 0, 0, 0, 0, 3, 1, 0, 0, 2, 2, 0, 0, 2, 2, 0, 0, 0,\n",
       "       0, 2, 2, 2, 0, 2, 0, 0, 0, 2, 2, 0, 1, 0, 2, 1, 0, 0, 0, 0, 2, 1,\n",
       "       0, 2, 0, 2, 2, 2, 0, 0, 2, 2, 2, 0, 0, 0, 0, 1, 2, 0, 0, 0, 2, 0,\n",
       "       2, 1, 0, 0, 0, 1, 0, 1, 0, 0, 0, 2, 0, 0, 0, 0, 0, 0, 2, 0, 2, 0,\n",
       "       2, 0, 2, 2, 2, 0, 2])"
      ]
     },
     "execution_count": 17,
     "metadata": {},
     "output_type": "execute_result"
    }
   ],
   "source": [
    "from sklearn.preprocessing import normalize\n",
    "num = 4\n",
    "clustering = AgglomerativeClustering(n_clusters = num, linkage = 'complete').fit(normalize(X[[\"AGE\",\"SHOTAVG\"]]))\n",
    "clustering.labels_"
   ]
  },
  {
   "cell_type": "code",
   "execution_count": 18,
   "metadata": {},
   "outputs": [
    {
     "name": "stdout",
     "output_type": "stream",
     "text": [
      "     HEIGHT  WEIGHT  AGE   SHOTAVG  PCT_SHOTS_REG  PCT_SHOTS_POFF  \\\n",
      "171      81     220   24  0.449331       0.159684        0.152077   \n",
      "344      78     225   26  0.423256       0.044294        0.011845   \n",
      "216      82     245   33  0.535270       0.119526        0.147071   \n",
      "10       81     220   29  0.433390       0.081935        0.076121   \n",
      "314      80     215   27  0.487273       0.047348        0.039284   \n",
      "243      81     240   32  0.503185       0.043042        0.024725   \n",
      "131      83     279   26  0.533270       0.157957        0.148699   \n",
      "222      78     215   35  0.500000       0.051833        0.090117   \n",
      "34       82     260   33  0.470852       0.050834        0.021541   \n",
      "402      76     200   27  0.405594       0.093577        0.074103   \n",
      "424      82     230   23  0.562500       0.151995        0.112910   \n",
      "182      82     250   30  0.461596       0.213848        0.211450   \n",
      "299      87     290   31  0.615385       0.062808        0.063472   \n",
      "53       80     216   30  0.496670       0.155997        0.193139   \n",
      "289      84     270   31  0.451654       0.109341        0.101355   \n",
      "153      75     190   26  0.456384       0.112463        0.096757   \n",
      "307      75     190   28  0.459372       0.198093        0.241457   \n",
      "276      79     204   25  0.428571       0.141990        0.169080   \n",
      "376      72     175   34  0.419444       0.148153        0.162141   \n",
      "77       82     240   25  0.647541       0.131028        0.087725   \n",
      "256      75     193   28  0.412409       0.080481        0.073053   \n",
      "411      77     198   23  0.434410       0.224188        0.240374   \n",
      "23       72     183   32  0.469719       0.098996        0.098894   \n",
      "490      82     231   23  0.414343       0.062786        0.030577   \n",
      "251      84     245   24  0.716216       0.037169        0.012048   \n",
      "285      75     195   29  0.444227       0.212860        0.229465   \n",
      "448      80     243   27  0.548872       0.049663        0.032319   \n",
      "159      82     225   31  0.462670       0.173585        0.267405   \n",
      "177      78     215   32  0.465079       0.090057        0.079654   \n",
      "109      80     230   32  0.474684       0.034130        0.012647   \n",
      "..      ...     ...  ...       ...            ...             ...   \n",
      "287      79     192   34  0.519048       0.039333        0.040623   \n",
      "453      77     215   25  0.346939       0.025100        0.039714   \n",
      "270      83     235   23  0.530612       0.119403        0.014856   \n",
      "124      78     210   26  0.442029       0.147763        0.146671   \n",
      "111      75     190   31  0.471642       0.218824        0.231405   \n",
      "67       78     232   24  0.464744       0.063709        0.043396   \n",
      "2        84     265   26  0.594561       0.111795        0.097602   \n",
      "308      74     190   27  0.525060       0.069997        0.033477   \n",
      "277      82     225   22  0.540984       0.044225        0.036145   \n",
      "150      79     190   21  0.429234       0.064026        0.059807   \n",
      "408      79     206   28  0.428432       0.151069        0.132107   \n",
      "409      73     190   25  0.387387       0.095785        0.078917   \n",
      "418      79     220   35  0.476510       0.037644        0.041857   \n",
      "496      80     221   31  0.526754       0.123928        0.128662   \n",
      "298      85     221   22  0.406716       0.051118        0.073127   \n",
      "156      73     170   29  0.444444       0.073687        0.021083   \n",
      "191      81     235   27  0.487241       0.192981        0.165382   \n",
      "433      79     213   28  0.451524       0.057535        0.018167   \n",
      "105      79     215   29  0.441989       0.057414        0.058271   \n",
      "174      77     225   26  0.335079       0.071653        0.024123   \n",
      "295      82     234   24  0.418182       0.089210        0.031250   \n",
      "143      78     220   30  0.389394       0.113853        0.144567   \n",
      "470      77     198   25  0.423963       0.053834        0.026330   \n",
      "137      77     200   32  0.402626       0.116849        0.097321   \n",
      "229      79     195   25  0.412409       0.050087        0.044384   \n",
      "304      77     220   33  0.399713       0.109491        0.091457   \n",
      "31       78     190   28  0.402174       0.119619        0.106239   \n",
      "86       81     225   32  0.417582       0.071846        0.060254   \n",
      "92       84     235   22  0.472500       0.059136        0.059400   \n",
      "367      83     270   35  0.440415       0.037702        0.071429   \n",
      "\n",
      "     PCT_SHOTS_DIFF  CLUSTER          PLAYER_NAME  \n",
      "171       -0.007607        0         Aaron Gordon  \n",
      "344       -0.032449        0          Abdel Nader  \n",
      "216        0.027545        0           Al Horford  \n",
      "10        -0.005814        2      Al-Farouq Aminu  \n",
      "314       -0.008064        0     Alfonzo McKinnie  \n",
      "243       -0.018317        0         Amir Johnson  \n",
      "131       -0.009258        0       Andre Drummond  \n",
      "222        0.038285        2       Andre Iguodala  \n",
      "34        -0.029293        2          Aron Baynes  \n",
      "402       -0.019474        2        Austin Rivers  \n",
      "424       -0.039084        1          Ben Simmons  \n",
      "182       -0.002398        0        Blake Griffin  \n",
      "299        0.000664        0     Boban Marjanovic  \n",
      "53         0.037142        0     Bojan Bogdanovic  \n",
      "289       -0.007986        2          Brook Lopez  \n",
      "153       -0.015706        0          Bryn Forbes  \n",
      "307        0.043364        0          CJ McCollum  \n",
      "276        0.027090        0         Caris LeVert  \n",
      "376        0.013988        2           Chris Paul  \n",
      "77        -0.043303        1         Clint Capela  \n",
      "256       -0.007428        2          Cory Joseph  \n",
      "411        0.016186        0     D'Angelo Russell  \n",
      "23        -0.000102        2        D.J. Augustin  \n",
      "490       -0.032209        0          D.J. Wilson  \n",
      "251       -0.025121        3         Damian Jones  \n",
      "285        0.016605        0       Damian Lillard  \n",
      "448       -0.017344        0         Daniel Theis  \n",
      "159        0.093820        2     Danilo Gallinari  \n",
      "177       -0.010403        2          Danny Green  \n",
      "109       -0.021482        2     Dante Cunningham  \n",
      "..              ...      ...                  ...  \n",
      "287        0.001290        0     Shaun Livingston  \n",
      "453        0.014614        2  Sindarius Thornwell  \n",
      "270       -0.104547        1      Skal Labissiere  \n",
      "124       -0.001091        0    Spencer Dinwiddie  \n",
      "111        0.012580        0        Stephen Curry  \n",
      "67        -0.020313        0       Sterling Brown  \n",
      "2         -0.014193        1         Steven Adams  \n",
      "308       -0.036521        0       T.J. McConnell  \n",
      "277       -0.008080        1              TJ Leaf  \n",
      "150       -0.004218        0    Terrance Ferguson  \n",
      "408       -0.018962        0        Terrence Ross  \n",
      "409       -0.016868        0         Terry Rozier  \n",
      "418        0.004213        2      Thabo Sefolosha  \n",
      "496        0.004734        0       Thaddeus Young  \n",
      "298        0.022009        0           Thon Maker  \n",
      "156       -0.052603        0          Tim Frazier  \n",
      "191       -0.027600        0        Tobias Harris  \n",
      "433       -0.039368        0           Tony Snell  \n",
      "105        0.000858        0         Torrey Craig  \n",
      "174       -0.047530        2       Treveon Graham  \n",
      "295       -0.057960        0           Trey Lyles  \n",
      "143        0.030714        2         Tyreke Evans  \n",
      "470       -0.027504        0       Tyrone Wallace  \n",
      "137       -0.019529        2      Wayne Ellington  \n",
      "229       -0.005703        0           Wes Iwundu  \n",
      "304       -0.018033        2      Wesley Matthews  \n",
      "31        -0.013381        2          Will Barton  \n",
      "86        -0.011592        2      Wilson Chandler  \n",
      "92         0.000264        0         Zach Collins  \n",
      "367        0.033727        2        Zaza Pachulia  \n",
      "\n",
      "[183 rows x 9 columns]\n"
     ]
    }
   ],
   "source": [
    "X[\"CLUSTER\"] = clustering.labels_\n",
    "Y = X.copy()\n",
    "Y[\"PLAYER_NAME\"] = plyrInfoPoff.DISPLAY_FIRST_LAST\n",
    "Y[\"CLUSTER\"] = clustering.labels_\n",
    "print(Y)"
   ]
  },
  {
   "cell_type": "code",
   "execution_count": 19,
   "metadata": {},
   "outputs": [
    {
     "data": {
      "image/png": "[encoded data removed]",
      "text/plain": [
       "<Figure size 720x720 with 4 Axes>"
      ]
     },
     "metadata": {
      "needs_background": "light"
     },
     "output_type": "display_data"
    }
   ],
   "source": [
    "fig,ax = plt.subplots(ncols = num)\n",
    "fig.set_figheight(10)\n",
    "fig.set_figwidth(10)\n",
    "for i in range(num):\n",
    "    ax[i].hist(X.PCT_SHOTS_DIFF.values, bins = 10)\n",
    "    ax[i].hist(X[X.CLUSTER == i].PCT_SHOTS_DIFF.values,bins = 10)"
   ]
  },
  {
   "cell_type": "markdown",
   "metadata": {},
   "source": [
    "We notice that cluster 1 has an average difference in perfentile shots that is below zero, while the others are not quite as conclusive or clear."
   ]
  },
  {
   "cell_type": "code",
   "execution_count": 20,
   "metadata": {},
   "outputs": [
    {
     "data": {
      "text/html": [
       "<div>\n",
       "<style scoped>\n",
       "    .dataframe tbody tr th:only-of-type {\n",
       "        vertical-align: middle;\n",
       "    }\n",
       "\n",
       "    .dataframe tbody tr th {\n",
       "        vertical-align: top;\n",
       "    }\n",
       "\n",
       "    .dataframe thead th {\n",
       "        text-align: right;\n",
       "    }\n",
       "</style>\n",
       "<table border=\"1\" class=\"dataframe\">\n",
       "  <thead>\n",
       "    <tr style=\"text-align: right;\">\n",
       "      <th></th>\n",
       "      <th>AGE</th>\n",
       "      <th>HEIGHT</th>\n",
       "      <th>SHOTAVG</th>\n",
       "      <th>PCT_SHOTS_REG</th>\n",
       "      <th>PCT_SHOTS_POFF</th>\n",
       "    </tr>\n",
       "    <tr>\n",
       "      <th>CLUSTER</th>\n",
       "      <th></th>\n",
       "      <th></th>\n",
       "      <th></th>\n",
       "      <th></th>\n",
       "      <th></th>\n",
       "    </tr>\n",
       "  </thead>\n",
       "  <tbody>\n",
       "    <tr>\n",
       "      <th>0</th>\n",
       "      <td>26.792453</td>\n",
       "      <td>79.198113</td>\n",
       "      <td>0.472563</td>\n",
       "      <td>0.105012</td>\n",
       "      <td>0.098921</td>\n",
       "    </tr>\n",
       "    <tr>\n",
       "      <th>1</th>\n",
       "      <td>25.000000</td>\n",
       "      <td>82.571429</td>\n",
       "      <td>0.594315</td>\n",
       "      <td>0.104430</td>\n",
       "      <td>0.087149</td>\n",
       "    </tr>\n",
       "    <tr>\n",
       "      <th>2</th>\n",
       "      <td>31.474576</td>\n",
       "      <td>77.677966</td>\n",
       "      <td>0.425502</td>\n",
       "      <td>0.098995</td>\n",
       "      <td>0.094691</td>\n",
       "    </tr>\n",
       "    <tr>\n",
       "      <th>3</th>\n",
       "      <td>23.000000</td>\n",
       "      <td>83.000000</td>\n",
       "      <td>0.644048</td>\n",
       "      <td>0.055574</td>\n",
       "      <td>0.050974</td>\n",
       "    </tr>\n",
       "  </tbody>\n",
       "</table>\n",
       "</div>"
      ],
      "text/plain": [
       "               AGE     HEIGHT   SHOTAVG  PCT_SHOTS_REG  PCT_SHOTS_POFF\n",
       "CLUSTER                                                               \n",
       "0        26.792453  79.198113  0.472563       0.105012        0.098921\n",
       "1        25.000000  82.571429  0.594315       0.104430        0.087149\n",
       "2        31.474576  77.677966  0.425502       0.098995        0.094691\n",
       "3        23.000000  83.000000  0.644048       0.055574        0.050974"
      ]
     },
     "execution_count": 20,
     "metadata": {},
     "output_type": "execute_result"
    }
   ],
   "source": [
    "X.groupby(\"CLUSTER\")[[\"AGE\",\"HEIGHT\",\"SHOTAVG\",\"PCT_SHOTS_REG\",\"PCT_SHOTS_POFF\"]].mean()"
   ]
  },
  {
   "cell_type": "markdown",
   "metadata": {},
   "source": [
    "We Can see that this group is the average age and has a high shot average, so it is surpising that they collectively shoot significantly less during the playoffs. We can see that they are taller than average. Maybe their position has some relationship with this effect."
   ]
  },
  {
   "cell_type": "code",
   "execution_count": 21,
   "metadata": {},
   "outputs": [
    {
     "name": "stdout",
     "output_type": "stream",
     "text": [
      "     HEIGHT  WEIGHT  AGE   SHOTAVG  PCT_SHOTS_REG  PCT_SHOTS_POFF  \\\n",
      "424      82     230   23  0.562500       0.151995        0.112910   \n",
      "77       82     240   25  0.647541       0.131028        0.087725   \n",
      "412      83     240   23  0.590000       0.112815        0.087040   \n",
      "459      82     245   32  0.694444       0.029120        0.010753   \n",
      "15       83     242   25  0.578188       0.195802        0.198416   \n",
      "501      85     240   22  0.559367       0.103346        0.060099   \n",
      "45       81     233   27  0.602649       0.036844        0.055061   \n",
      "187      80     240   25  0.614865       0.146457        0.148039   \n",
      "351      83     220   25  0.586957       0.040620        0.046781   \n",
      "422      81     230   25  0.549206       0.133893        0.188377   \n",
      "170      85     245   27  0.668539       0.104672        0.076283   \n",
      "270      83     235   23  0.530612       0.119403        0.014856   \n",
      "2        84     265   26  0.594561       0.111795        0.097602   \n",
      "277      82     225   22  0.540984       0.044225        0.036145   \n",
      "\n",
      "     PCT_SHOTS_DIFF  CLUSTER            PLAYER_NAME        POSITION  \n",
      "424       -0.039084        1            Ben Simmons   Guard-Forward  \n",
      "77        -0.043303        1           Clint Capela          Center  \n",
      "412       -0.025775        1       Domantas Sabonis         Forward  \n",
      "459       -0.018368        1              Ekpe Udoh  Center-Forward  \n",
      "15         0.002615        1  Giannis Antetokounmpo         Forward  \n",
      "501       -0.043247        1            Ivica Zubac          Center  \n",
      "45         0.018217        1             Khem Birch          Center  \n",
      "187        0.001582        1       Montrezl Harrell  Forward-Center  \n",
      "351        0.006161        1           Nerlens Noel  Forward-Center  \n",
      "422        0.054484        1          Pascal Siakam         Forward  \n",
      "170       -0.028389        1            Rudy Gobert          Center  \n",
      "270       -0.104547        1        Skal Labissiere         Forward  \n",
      "2         -0.014193        1           Steven Adams          Center  \n",
      "277       -0.008080        1                TJ Leaf         Forward  \n"
     ]
    }
   ],
   "source": [
    "Y[\"POSITION\"] = plyrInfoPoff[\"POSITION\"]\n",
    "print(Y[X.CLUSTER == 1])"
   ]
  },
  {
   "cell_type": "markdown",
   "metadata": {},
   "source": [
    "#### Analysis\n",
    "\n",
    "We see that most of the players in this cluster that have a negative change in percentile shot difference are mostly Forwards. While the data we have is not as accurate, from looking at these players positions online, they are usually referred to as power forwards. This players are versatile because they can shoot from within the key and take farther jump shots. It is very interesting that they take fewer shots during the playoffs when their role is so pivotal, but it would take further analysis to determine why this is the trend."
   ]
  },
  {
   "cell_type": "markdown",
   "metadata": {},
   "source": [
    "# Conclusion\n",
    "\n",
    "As a result of the querying we are unable to make any conclusive claims about any positive trends in who is taking more shots in the playoff season than the regular season. All of the analysis we have done thus far points to the conclusion that there is no underlying factor that results in this effect.\n",
    "\n",
    "Overall, the only consistent underlying trend is that there is a subset of players who, despite having an above average shot average, tend to shoot less frequently during the playoffs than they do during the regular season. These players are generally power forwards, and with a better dataset with more descriptive labels we could more easily scope in on this subset and come to a more concrete conclusion, however the trend is very clear, especially when looking at that last cluster and ignoring players who were centers rather than power forwards."
   ]
  }
 ],
 "metadata": {
  "kernelspec": {
   "display_name": "Python 3",
   "language": "python",
   "name": "python3"
  },
  "language_info": {
   "codemirror_mode": {
    "name": "ipython",
    "version": 3
   },
   "file_extension": ".py",
   "mimetype": "text/x-python",
   "name": "python",
   "nbconvert_exporter": "python",
   "pygments_lexer": "ipython3",
   "version": "3.6.7"
  }
 },
 "nbformat": 4,
 "nbformat_minor": 2
}
