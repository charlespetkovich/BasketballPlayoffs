{
 "cells": [
  {
   "cell_type": "code",
   "execution_count": 3,
   "metadata": {},
   "outputs": [],
   "source": [
    "%matplotlib inline\n",
    "\n",
    "import pandas as pd\n",
    "import numpy as np\n",
    "import matplotlib.pyplot as plt\n",
    "import json\n",
    "import pickle # to serialize/unserialize python data objects\n"
   ]
  },
  {
   "cell_type": "code",
   "execution_count": 4,
   "metadata": {},
   "outputs": [],
   "source": [
    "def get_nba_data(endpt, params, return_url=False):\n",
    "\n",
    "    ## endpt: https://github.com/seemethere/nba_py/wiki/stats.nba.com-Endpoint-Documentation\n",
    "    ## params: dictionary of parameters: i.e., {'LeagueID':'00'}\n",
    "    \n",
    "    from pandas import DataFrame\n",
    "    from urllib.parse import urlencode\n",
    "    import json\n",
    "    \n",
    "    useragent = \"\\\"Mozilla/5.0 (Macintosh; Intel Mac OS X 10_11_2) AppleWebKit/601.3.9 (KHTML, like Gecko) Version/9.0.2 Safari/601.3.9\\\"\"\n",
    "    dataurl = \"\\\"\" + \"http://stats.nba.com/stats/\" + endpt + \"?\" + urlencode(params) + \"\\\"\"\n",
    "    \n",
    "    # for debugging: just return the url\n",
    "    if return_url:\n",
    "        return(dataurl)\n",
    "    \n",
    "    jsonstr = !wget -q -O - --user-agent={useragent} {dataurl}\n",
    "\n",
    "    \n",
    "    data = json.loads(jsonstr[0])\n",
    "    \n",
    "    h = data['resultSets'][0]['headers']\n",
    "    d = data['resultSets'][0]['rowSet']\n",
    "    \n",
    "    return(DataFrame(d, columns=h))"
   ]
  },
  {
   "cell_type": "code",
   "execution_count": 5,
   "metadata": {},
   "outputs": [],
   "source": [
    "params = {'PlayerID':'', # We'll fill this in after identifying the right player\n",
    "          'PlayerPosition':'',\n",
    "          'Season':'2017-18',\n",
    "          'IsOnlyCurrentSeason' : \"1\",\n",
    "          'ContextMeasure':'FGA',\n",
    "          'DateFrom':'',\n",
    "          'DateTo':'',\n",
    "          'GameID':'',\n",
    "          'GameSegment':'',\n",
    "          'LastNGames':'0',\n",
    "          'LeagueID':'00',\n",
    "          'Location':'',\n",
    "          'Month':'0',\n",
    "          'OpponentTeamID':'0',\n",
    "          'Outcome':'',\n",
    "          'Period':'0',\n",
    "          'Position':'',\n",
    "          'RookieYear':'',\n",
    "          'SeasonSegment':'',\n",
    "          'SeasonType':'Playoffs',\n",
    "          'TeamID':'0',\n",
    "          'VsConference':'',\n",
    "          'VsDivision':''}\n",
    " "
   ]
  },
  {
   "cell_type": "code",
   "execution_count": 5,
   "metadata": {},
   "outputs": [
    {
     "name": "stdout",
     "output_type": "stream",
     "text": [
      "0       203518\n",
      "1       203112\n",
      "2       201167\n",
      "3       201582\n",
      "4       202332\n",
      "5         2754\n",
      "6      1628387\n",
      "7         2546\n",
      "8       201589\n",
      "9      1628503\n",
      "10      201600\n",
      "11      202337\n",
      "12     1627758\n",
      "13     1627735\n",
      "14      201563\n",
      "15     1628444\n",
      "16      204028\n",
      "17      203505\n",
      "18     1627762\n",
      "19      202344\n",
      "20      201166\n",
      "21      202705\n",
      "22     1626148\n",
      "23      201628\n",
      "24      203485\n",
      "25      203900\n",
      "26     1627852\n",
      "27      202779\n",
      "28      201596\n",
      "29     1628492\n",
      "        ...   \n",
      "132    1627819\n",
      "133     203104\n",
      "134     203141\n",
      "135    1628462\n",
      "136       1891\n",
      "137    1627755\n",
      "138    1627756\n",
      "139    1626173\n",
      "140    1628476\n",
      "141    1627866\n",
      "142     204037\n",
      "143    1627821\n",
      "144    1627362\n",
      "145       2561\n",
      "146    1627855\n",
      "147    1628510\n",
      "148    1627785\n",
      "149     203912\n",
      "150    1628451\n",
      "151       2863\n",
      "152     202682\n",
      "153    1628475\n",
      "154     203966\n",
      "155     203481\n",
      "156     203489\n",
      "157     201148\n",
      "158     203923\n",
      "159    1626202\n",
      "160     201156\n",
      "161    1627835\n",
      "Name: PERSON_ID, Length: 162, dtype: int64\n"
     ]
    }
   ],
   "source": [
    "with open('commonallplayers.json', 'r') as f:\n",
    "    allplyrs = json.load(f)\n",
    "#pickle.dump(allplyrs, open( \"players.p\", \"wb\" ) )\n",
    "\n",
    "h = allplyrs['resultSets'][0]['headers']\n",
    "d = allplyrs['resultSets'][0]['rowSet']\n",
    "\n",
    "allplyrsdata= pd.DataFrame(d,columns= h) \n",
    "person_ids = allplyrsdata['PERSON_ID']\n",
    "print(person_ids)"
   ]
  },
  {
   "cell_type": "code",
   "execution_count": 13,
   "metadata": {},
   "outputs": [],
   "source": [
    "playerDict = {}\n",
    "for i in person_ids.loc[:]:\n",
    "    params[\"PlayerID\"] = i\n",
    "    plyr = get_nba_data('shotchartdetail', params, return_url=False)\n",
    "    playerDict[i] = plyr\n",
    "    #fname = \"{}.p\"\n",
    "    #pickle.dump(plyr, open( fname.format(i), \"wb\" ) )\n"
   ]
  },
  {
   "cell_type": "code",
   "execution_count": 15,
   "metadata": {},
   "outputs": [],
   "source": [
    "pickle.dump(playerDict, open(\"allplayers.p\",\"wb\"))"
   ]
  },
  {
   "cell_type": "code",
   "execution_count": 17,
   "metadata": {},
   "outputs": [],
   "source": [
    "playerDict = {}\n",
    "params['SeasonType'] = \"Regular Season\"\n",
    "for i in person_ids.loc[:]:\n",
    "    params[\"PlayerID\"] = i\n",
    "    plyr = get_nba_data('shotchartdetail', params, return_url=False)\n",
    "    playerDict[i] = plyr\n",
    "    fname = \"{}.p\"\n"
   ]
  },
  {
   "cell_type": "code",
   "execution_count": 18,
   "metadata": {},
   "outputs": [],
   "source": [
    "pickle.dump(playerDict, open(\"allplayersregular.p\",\"wb\"))"
   ]
  },
  {
   "cell_type": "markdown",
   "metadata": {},
   "source": [
    "### Defense Data"
   ]
  },
  {
   "cell_type": "code",
   "execution_count": 36,
   "metadata": {},
   "outputs": [],
   "source": [
    "endpt = \"playerdashptshotdefend\"\n",
    "params = {'PlayerID':'', # We'll fill this in after identifying the right player\n",
    "          'PlayerPosition':'',\n",
    "          'Season':'2017-18',\n",
    "          'DateFrom':'',\n",
    "          'DateTo':'',\n",
    "          'GameSegment':'',\n",
    "          'LastNGames':'0',\n",
    "          'Location':'',\n",
    "          'Month':'0',\n",
    "          'OpponentTeamID':'0',\n",
    "          'Outcome':'',\n",
    "          'Period':'0',\n",
    "          'SeasonSegment':'',\n",
    "          'SeasonType':'Regular Season',\n",
    "          'VsConference':'',\n",
    "          'VsDivision':'',\n",
    "         'PerMode':'Totals',\n",
    "         'MeasureType':'Opponent',\n",
    "         'PlusMinus':'N',\n",
    "         'PaceAdjust':'N',\n",
    "         'Rank':'N'}"
   ]
  },
  {
   "cell_type": "code",
   "execution_count": 23,
   "metadata": {
    "scrolled": false
   },
   "outputs": [
    {
     "name": "stdout",
     "output_type": "stream",
     "text": [
      "203518\n",
      "^C\n"
     ]
    },
    {
     "ename": "IndexError",
     "evalue": "list index out of range",
     "output_type": "error",
     "traceback": [
      "\u001b[0;31m---------------------------------------------------------------------------\u001b[0m",
      "\u001b[0;31mIndexError\u001b[0m                                Traceback (most recent call last)",
      "\u001b[0;32m<ipython-input-23-e94bc7663e9e>\u001b[0m in \u001b[0;36m<module>\u001b[0;34m\u001b[0m\n\u001b[1;32m      3\u001b[0m     \u001b[0mparams\u001b[0m\u001b[0;34m[\u001b[0m\u001b[0;34m\"PlayerID\"\u001b[0m\u001b[0;34m]\u001b[0m \u001b[0;34m=\u001b[0m \u001b[0mi\u001b[0m\u001b[0;34m\u001b[0m\u001b[0;34m\u001b[0m\u001b[0m\n\u001b[1;32m      4\u001b[0m     \u001b[0mprint\u001b[0m\u001b[0;34m(\u001b[0m\u001b[0mi\u001b[0m\u001b[0;34m)\u001b[0m\u001b[0;34m\u001b[0m\u001b[0;34m\u001b[0m\u001b[0m\n\u001b[0;32m----> 5\u001b[0;31m     \u001b[0mplyr\u001b[0m \u001b[0;34m=\u001b[0m \u001b[0mget_nba_data\u001b[0m\u001b[0;34m(\u001b[0m\u001b[0mendpt\u001b[0m\u001b[0;34m,\u001b[0m \u001b[0mparams\u001b[0m\u001b[0;34m,\u001b[0m \u001b[0mreturn_url\u001b[0m\u001b[0;34m=\u001b[0m\u001b[0;32mFalse\u001b[0m\u001b[0;34m)\u001b[0m\u001b[0;34m\u001b[0m\u001b[0;34m\u001b[0m\u001b[0m\n\u001b[0m\u001b[1;32m      6\u001b[0m     \u001b[0mplayerDict\u001b[0m\u001b[0;34m[\u001b[0m\u001b[0mi\u001b[0m\u001b[0;34m]\u001b[0m \u001b[0;34m=\u001b[0m \u001b[0mplyr\u001b[0m\u001b[0;34m\u001b[0m\u001b[0;34m\u001b[0m\u001b[0m\n\u001b[1;32m      7\u001b[0m \u001b[0mpickle\u001b[0m\u001b[0;34m.\u001b[0m\u001b[0mdump\u001b[0m\u001b[0;34m(\u001b[0m\u001b[0mplayerDict\u001b[0m\u001b[0;34m,\u001b[0m \u001b[0mopen\u001b[0m\u001b[0;34m(\u001b[0m\u001b[0;34m\"allpDefense.p\"\u001b[0m\u001b[0;34m,\u001b[0m\u001b[0;34m\"wb\"\u001b[0m\u001b[0;34m)\u001b[0m\u001b[0;34m)\u001b[0m\u001b[0;34m\u001b[0m\u001b[0;34m\u001b[0m\u001b[0m\n",
      "\u001b[0;32m<ipython-input-4-99ac90e4c73c>\u001b[0m in \u001b[0;36mget_nba_data\u001b[0;34m(endpt, params, return_url)\u001b[0m\n\u001b[1;32m     18\u001b[0m \u001b[0;34m\u001b[0m\u001b[0m\n\u001b[1;32m     19\u001b[0m \u001b[0;34m\u001b[0m\u001b[0m\n\u001b[0;32m---> 20\u001b[0;31m     \u001b[0mdata\u001b[0m \u001b[0;34m=\u001b[0m \u001b[0mjson\u001b[0m\u001b[0;34m.\u001b[0m\u001b[0mloads\u001b[0m\u001b[0;34m(\u001b[0m\u001b[0mjsonstr\u001b[0m\u001b[0;34m[\u001b[0m\u001b[0;36m0\u001b[0m\u001b[0;34m]\u001b[0m\u001b[0;34m)\u001b[0m\u001b[0;34m\u001b[0m\u001b[0;34m\u001b[0m\u001b[0m\n\u001b[0m\u001b[1;32m     21\u001b[0m \u001b[0;34m\u001b[0m\u001b[0m\n\u001b[1;32m     22\u001b[0m     \u001b[0mh\u001b[0m \u001b[0;34m=\u001b[0m \u001b[0mdata\u001b[0m\u001b[0;34m[\u001b[0m\u001b[0;34m'resultSets'\u001b[0m\u001b[0;34m]\u001b[0m\u001b[0;34m[\u001b[0m\u001b[0;36m0\u001b[0m\u001b[0;34m]\u001b[0m\u001b[0;34m[\u001b[0m\u001b[0;34m'headers'\u001b[0m\u001b[0;34m]\u001b[0m\u001b[0;34m\u001b[0m\u001b[0;34m\u001b[0m\u001b[0m\n",
      "\u001b[0;31mIndexError\u001b[0m: list index out of range"
     ]
    }
   ],
   "source": [
    "playerDict = {}\n",
    "for i in person_ids.loc[:]:\n",
    "    params[\"PlayerID\"] = i\n",
    "    print(i)\n",
    "    plyr = get_nba_data(endpt, params, return_url=False)\n",
    "    playerDict[i] = plyr\n",
    "pickle.dump(playerDict, open(\"allpDefense.p\",\"wb\"))"
   ]
  },
  {
   "cell_type": "code",
   "execution_count": 37,
   "metadata": {},
   "outputs": [
    {
     "name": "stdout",
     "output_type": "stream",
     "text": [
      "\"http://stats.nba.com/stats/playervsplayer?PlayerID=203518&PlayerPosition=&Season=2017-18&DateFrom=&DateTo=&GameSegment=&LastNGames=0&Location=&Month=0&OpponentTeamID=0&Outcome=&Period=0&SeasonSegment=&SeasonType=Regular+Season&VsConference=&VsDivision=&PerMode=Totals&MeasureType=Opponent&PlusMinus=N&PaceAdjust=N&Rank=N&VsPlayerID=203112&DefenseCategory=\"\n"
     ]
    }
   ],
   "source": [
    "params[\"PlayerID\"] = person_ids.iloc[0]\n",
    "params[\"VsPlayerID\"] = person_ids.iloc[1]\n",
    "params[\"DefenseCategory\"] = ''\n",
    "endpt = \"playervsplayer\"\n",
    "plyr = get_nba_data(endpt, params, return_url=True)\n",
    "print(plyr)"
   ]
  },
  {
   "cell_type": "code",
   "execution_count": null,
   "metadata": {},
   "outputs": [
    {
     "name": "stdout",
     "output_type": "stream",
     "text": [
      "203518\n",
      "203112\n",
      "201167\n",
      "201582\n",
      "202332\n",
      "2754\n",
      "1628387\n",
      "2546\n",
      "201589\n",
      "1628503\n",
      "201600\n",
      "202337\n",
      "1627758\n",
      "1627735\n",
      "201563\n",
      "1628444\n"
     ]
    }
   ],
   "source": [
    "if(True):\n",
    "    params = {'PlayerID':'',\n",
    "              'PlayerPosition':'',\n",
    "              'Season':'2018-19',\n",
    "              'ContextMeasure':'FGA',\n",
    "              'DateFrom':'',\n",
    "              'DateTo':'',\n",
    "              'GameID':'',\n",
    "              'GameSegment':'',\n",
    "              'LastNGames':'0',\n",
    "              'LeagueID':'00',\n",
    "              'Location':'',\n",
    "              'Month':'0',\n",
    "              'OpponentTeamID':'0',\n",
    "              'Outcome':'',\n",
    "              'Period':'0',\n",
    "              'Position':'',\n",
    "              'RookieYear':'',\n",
    "              'SeasonSegment':'',\n",
    "              'SeasonType':'Regular Season',\n",
    "              'TeamID':'0',\n",
    "              'VsConference':'',\n",
    "              'VsDivision':''}\n",
    "\n",
    "    shotdf = []\n",
    "    for p in person_ids.iloc[:]:\n",
    "        print(p)\n",
    "\n",
    "        # get player p's data\n",
    "        params['PlayerID'] = p\n",
    "        \n",
    "        # scrape the json data\n",
    "        playerdata = get_nba_data('shotchartdetail', params)\n",
    "        \n",
    "        # add playerID to the dictionary\n",
    "        playerdata['PlayerID'] = p\n",
    "        \n",
    "        # add to the list of player data frames\n",
    "        shotdf += [playerdata]\n",
    "    \n",
    "    # This concats a list of data frame's into one big data frame\n",
    "    allshots = pd.concat(shotdf,ignore_index=True)\n",
    "\n",
    "    # Save the json\n",
    "    pickle.dump(allshots, open('allshotsreg2017.p', 'wb'))"
   ]
  },
  {
   "cell_type": "code",
   "execution_count": null,
   "metadata": {},
   "outputs": [],
   "source": [
    "if(True):\n",
    "    params = {'PlayerID':'',\n",
    "              'PlayerPosition':'',\n",
    "              'Season':'2018-19',\n",
    "              'ContextMeasure':'FGA',\n",
    "              'DateFrom':'',\n",
    "              'DateTo':'',\n",
    "              'GameID':'',\n",
    "              'GameSegment':'',\n",
    "              'LastNGames':'0',\n",
    "              'LeagueID':'00',\n",
    "              'Location':'',\n",
    "              'Month':'0',\n",
    "              'OpponentTeamID':'0',\n",
    "              'Outcome':'',\n",
    "              'Period':'0',\n",
    "              'Position':'',\n",
    "              'RookieYear':'',\n",
    "              'SeasonSegment':'',\n",
    "              'SeasonType':'Playoffs',\n",
    "              'TeamID':'0',\n",
    "              'VsConference':'',\n",
    "              'VsDivision':''}\n",
    "\n",
    "    shotdf = []\n",
    "    for p in person_ids.iloc[:]:\n",
    "        print(p)\n",
    "\n",
    "        # get player p's data\n",
    "        params['PlayerID'] = p\n",
    "        \n",
    "        # scrape the json data\n",
    "        playerdata = get_nba_data('shotchartdetail', params)\n",
    "        \n",
    "        # add playerID to the dictionary\n",
    "        playerdata['PlayerID'] = p\n",
    "        \n",
    "        # add to the list of player data frames\n",
    "        shotdf += [playerdata]\n",
    "    \n",
    "    # This concats a list of data frame's into one big data frame\n",
    "    allshots = pd.concat(shotdf,ignore_index=True)\n",
    "\n",
    "    # Save the json\n",
    "    pickle.dump(allshots, open('allshotspoff2017.p', 'wb'))"
   ]
  },
  {
   "cell_type": "code",
   "execution_count": null,
   "metadata": {},
   "outputs": [],
   "source": []
  }
 ],
 "metadata": {
  "kernelspec": {
   "display_name": "Python 3",
   "language": "python",
   "name": "python3"
  },
  "language_info": {
   "codemirror_mode": {
    "name": "ipython",
    "version": 3
   },
   "file_extension": ".py",
   "mimetype": "text/x-python",
   "name": "python",
   "nbconvert_exporter": "python",
   "pygments_lexer": "ipython3",
   "version": "3.7.1"
  }
 },
 "nbformat": 4,
 "nbformat_minor": 2
}
